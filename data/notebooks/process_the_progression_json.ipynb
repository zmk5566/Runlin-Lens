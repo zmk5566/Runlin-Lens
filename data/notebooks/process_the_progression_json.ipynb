{
 "cells": [
  {
   "cell_type": "code",
   "execution_count": 111,
   "metadata": {},
   "outputs": [],
   "source": []
  },
  {
   "cell_type": "code",
   "execution_count": 255,
   "metadata": {},
   "outputs": [
    {
     "name": "stderr",
     "output_type": "stream",
     "text": [
      "c:\\Users\\k-main\\anaconda3\\lib\\site-packages\\pandas\\core\\indexing.py:1736: SettingWithCopyWarning: \n",
      "A value is trying to be set on a copy of a slice from a DataFrame.\n",
      "Try using .loc[row_indexer,col_indexer] = value instead\n",
      "\n",
      "See the caveats in the documentation: https://pandas.pydata.org/pandas-docs/stable/user_guide/indexing.html#returning-a-view-versus-a-copy\n",
      "  isetter(loc, value[:, i].tolist())\n"
     ]
    }
   ],
   "source": [
    "# import panda \n",
    "import pandas as pd\n",
    "\n",
    "# load the csv file \n",
    "df = pd.read_csv('../raw/relationship.csv')\n",
    "\n",
    "# print the first 5 rows of the dataframe\n",
    "df.head()\n",
    "# update the name_a with split string, get the first value\n",
    "# update the name_b with split string, get the second value\n",
    "df['name_a'] = df['name_a'].str.split(' ').str[0]\n",
    "df['name_b'] = df['name_b'].str.split(' ').str[0] \n",
    "\n",
    "df_list = []\n",
    "\n",
    "# loop through all the unique values in the name_a column\n",
    "for name in df['name_a'].unique():\n",
    "    # get the rows where the name_a or name_b is equal to the name\n",
    "    df_name = df[(df['name_a'] == name) | (df['name_b'] == name)]\n",
    "\n",
    "    # swap the name_a and name_b if the name_b is equal to the name\n",
    "    df_name.loc[df_name['name_b'] == name, ['name_a', 'name_b']] = df_name.loc[df_name['name_b'] == name, ['name_b', 'name_a']].values\n",
    "    # append the dataframe to the list\n",
    "    df_list.append(df_name)\n",
    "\n",
    "# concat the list of dataframes into one dataframe\n",
    "df_total = pd.concat(df_list)\n",
    "\n",
    "# drop the duplicates if name_a and name_b are the same\n",
    "df_total = df_total.drop_duplicates(subset=['name_a', 'name_b'])\n",
    "\n",
    "# drop the duplicated _index \n",
    "#df_total = df_total.drop_duplicates(subset=['_index'])\n",
    "\n",
    "df_total.to_csv('../processed/relationship.csv', index=False)\n"
   ]
  },
  {
   "cell_type": "code",
   "execution_count": 256,
   "metadata": {},
   "outputs": [],
   "source": [
    "\n",
    "# melt the value with the unique value into new columes\n",
    "\n"
   ]
  },
  {
   "cell_type": "code",
   "execution_count": 264,
   "metadata": {},
   "outputs": [],
   "source": [
    "explored = []\n",
    "\n",
    "json ={}\n",
    "\n",
    "# loop through all the unique values in the name_a column\n",
    "for name in df_total['name_a'].unique():\n",
    "    json[name] = {}\n",
    "\n",
    "# iterate through the dataframe\n",
    "# loop through all the unique values in the name_a column\n",
    "for name in df_total['name_a'].unique():\n",
    "    # if the name is in the explored list, skip\n",
    "    if name in explored:\n",
    "        continue\n",
    "    # get the rows where the name_a and append all the name_b to as the json value\n",
    "    temp_list = list(df_total[df_total['name_a'] == name]['name_b'].values)\n",
    "    # remove the entry if it exit in the exlored list\n",
    "    temp_list = [x for x in temp_list if x not in explored]\n",
    "    # append the name to the explored list\n",
    "    explored.append(name)\n",
    "    json[name] = {\"name\": name, \"children\": temp_list,\"relations\":temp_list.__len__()}\n",
    "\n",
    "\n",
    "# sort the json by the relations\n",
    "json = {k: v for k, v in sorted(json.items(), key=lambda item: item[1]['relations'], reverse=True)}\n",
    "\n",
    "\n",
    "the_explored_list = []\n",
    "\n",
    "def gen_json(name, input_json):\n",
    "    # loop through the json and recursively call the function until the children is empty\n",
    "    temp_json = {}\n",
    "    temp_json[\"name\"] = input_json[name][\"name\"]\n",
    "    temp_json[\"children\"] = []\n",
    "\n",
    "    # first check if all the keys in the children is in the json\n",
    "    json[name][\"children\"] = [x for x in json[name][\"children\"] if x in json.keys()]\n",
    "    # if does not exist, create the entry in the original json \n",
    "    for child in json[name][\"children\"]:\n",
    "        if child not in input_json.keys():\n",
    "            input_json[child] = {\"name\": child, \"children\": [], \"relations\": 0}\n",
    "    \n",
    "\n",
    "    # sort the json children by the relations\n",
    "    json[name]['children'] = sorted(json[name]['children'], key=lambda x: json[x]['relations'], reverse=True)\n",
    "    the_explored_list.append(name)\n",
    "\n",
    "\n",
    "\n",
    "    # loop through the children\n",
    "    for child in json[name][\"children\"]:\n",
    "        # if the child is in the json, call the function again\n",
    "        # check if the key is in the json\n",
    "        if child in the_explored_list:\n",
    "            continue\n",
    "        if child in input_json.keys():\n",
    "            temp_json[\"children\"].append(gen_json(child, input_json))\n",
    "        else:\n",
    "            temp_json[\"children\"].append({\"name\": child})\n",
    "        # iterate the children\n",
    "        #temp_json[\"children\"].append(gen_json(child, input_json))\n",
    "    return temp_json\n",
    "\n",
    "\n",
    "output_json = gen_json(\"周进\",json)\n",
    "\n",
    "# write the json to the file\n",
    "import json\n",
    "with open('../processed/relationship.json', 'w') as outfile:\n",
    "    json.dump(output_json, outfile, ensure_ascii=False)\n",
    "\n"
   ]
  },
  {
   "cell_type": "code",
   "execution_count": 258,
   "metadata": {},
   "outputs": [],
   "source": [
    "\n"
   ]
  },
  {
   "cell_type": "code",
   "execution_count": 259,
   "metadata": {},
   "outputs": [],
   "source": [
    "\n",
    "\n"
   ]
  },
  {
   "cell_type": "code",
   "execution_count": 207,
   "metadata": {},
   "outputs": [
    {
     "ename": "KeyError",
     "evalue": "'children'",
     "output_type": "error",
     "traceback": [
      "\u001b[1;31m---------------------------------------------------------------------------\u001b[0m",
      "\u001b[1;31mKeyError\u001b[0m                                  Traceback (most recent call last)",
      "\u001b[1;32m<ipython-input-207-caa1b8e95260>\u001b[0m in \u001b[0;36m<module>\u001b[1;34m\u001b[0m\n\u001b[1;32m----> 1\u001b[1;33m \u001b[0mgen_json\u001b[0m\u001b[1;33m(\u001b[0m\u001b[1;34m\"周进\"\u001b[0m\u001b[1;33m,\u001b[0m\u001b[0mjson\u001b[0m\u001b[1;33m)\u001b[0m\u001b[1;33m\u001b[0m\u001b[1;33m\u001b[0m\u001b[0m\n\u001b[0m",
      "\u001b[1;32m<ipython-input-205-5fca3ce88932>\u001b[0m in \u001b[0;36mgen_json\u001b[1;34m(name, input_json)\u001b[0m\n\u001b[0;32m     12\u001b[0m         \u001b[1;31m# if the child is in the json, call the function again\u001b[0m\u001b[1;33m\u001b[0m\u001b[1;33m\u001b[0m\u001b[1;33m\u001b[0m\u001b[0m\n\u001b[0;32m     13\u001b[0m         \u001b[1;32mif\u001b[0m \u001b[0mchild\u001b[0m \u001b[1;32min\u001b[0m \u001b[0mjson\u001b[0m\u001b[1;33m:\u001b[0m\u001b[1;33m\u001b[0m\u001b[1;33m\u001b[0m\u001b[0m\n\u001b[1;32m---> 14\u001b[1;33m             \u001b[0mtemp_json\u001b[0m\u001b[1;33m[\u001b[0m\u001b[1;34m\"children\"\u001b[0m\u001b[1;33m]\u001b[0m\u001b[1;33m.\u001b[0m\u001b[0mappend\u001b[0m\u001b[1;33m(\u001b[0m\u001b[0mgen_json\u001b[0m\u001b[1;33m(\u001b[0m\u001b[0mchild\u001b[0m\u001b[1;33m,\u001b[0m \u001b[0mjson\u001b[0m\u001b[1;33m)\u001b[0m\u001b[1;33m)\u001b[0m\u001b[1;33m\u001b[0m\u001b[1;33m\u001b[0m\u001b[0m\n\u001b[0m\u001b[0;32m     15\u001b[0m     \u001b[1;32mreturn\u001b[0m \u001b[0mtemp_json\u001b[0m\u001b[1;33m\u001b[0m\u001b[1;33m\u001b[0m\u001b[0m\n\u001b[0;32m     16\u001b[0m \u001b[1;33m\u001b[0m\u001b[0m\n",
      "\u001b[1;32m<ipython-input-205-5fca3ce88932>\u001b[0m in \u001b[0;36mgen_json\u001b[1;34m(name, input_json)\u001b[0m\n\u001b[0;32m      9\u001b[0m \u001b[1;33m\u001b[0m\u001b[0m\n\u001b[0;32m     10\u001b[0m     \u001b[1;31m# loop through the children\u001b[0m\u001b[1;33m\u001b[0m\u001b[1;33m\u001b[0m\u001b[1;33m\u001b[0m\u001b[0m\n\u001b[1;32m---> 11\u001b[1;33m     \u001b[1;32mfor\u001b[0m \u001b[0mchild\u001b[0m \u001b[1;32min\u001b[0m \u001b[0mjson\u001b[0m\u001b[1;33m[\u001b[0m\u001b[0mname\u001b[0m\u001b[1;33m]\u001b[0m\u001b[1;33m[\u001b[0m\u001b[1;34m\"children\"\u001b[0m\u001b[1;33m]\u001b[0m\u001b[1;33m:\u001b[0m\u001b[1;33m\u001b[0m\u001b[1;33m\u001b[0m\u001b[0m\n\u001b[0m\u001b[0;32m     12\u001b[0m         \u001b[1;31m# if the child is in the json, call the function again\u001b[0m\u001b[1;33m\u001b[0m\u001b[1;33m\u001b[0m\u001b[1;33m\u001b[0m\u001b[0m\n\u001b[0;32m     13\u001b[0m         \u001b[1;32mif\u001b[0m \u001b[0mchild\u001b[0m \u001b[1;32min\u001b[0m \u001b[0mjson\u001b[0m\u001b[1;33m:\u001b[0m\u001b[1;33m\u001b[0m\u001b[1;33m\u001b[0m\u001b[0m\n",
      "\u001b[1;31mKeyError\u001b[0m: 'children'"
     ]
    }
   ],
   "source": []
  },
  {
   "cell_type": "code",
   "execution_count": 183,
   "metadata": {},
   "outputs": [],
   "source": [
    "import json\n",
    "\n",
    "\n",
    "def get_relationship_json(character_name,start_index,end_index,upfront,df_input,explored_names=[]):\n",
    "    # start constructing the json object\n",
    "    json_object = {}\n",
    "    json_object['name'] = character_name\n",
    "    json_object[\"children\"] = []\n",
    "    # get the rows where the name_a or name_b is equal to the name and the _index equals to the start_index\n",
    "    df_name = df_input[((df_input['name_a'] == character_name) | (df_input['name_b'] == character_name)) & (df_input['chapter'] >= start_index) & (df_input['chapter'] < start_index + upfront) & (df_input['chapter'] < end_index)]\n",
    "    # loop through all the rows and append the name_a or name_b to the children list\n",
    "    #print (df_name)\n",
    "    \n",
    "\n",
    "\n",
    "    for index, row in df_name.iterrows():\n",
    "            if row['name_a'] == character_name and row['name_b'] not in explored_names:\n",
    "                json_object[\"children\"].append(get_relationship_json(row['name_b'],row['chapter']+1,end_index,upfront,df_input))\n",
    "                explored_names.append(character_name)\n",
    "            elif row['name_b'] == character_name and row['name_a'] not in explored_names:\n",
    "                json_object[\"children\"].append(get_relationship_json(row['name_a'],row['chapter']+1,end_index,upfront,df_input))\n",
    "                explored_names.append(character_name)\n",
    "    \n",
    "    if (json_object['children'] == []):\n",
    "        # remove the children key if the children list is empty\n",
    "        json_object.pop(\"children\", None)\n",
    "    \n",
    "    \n",
    "    #print (json_object)\n",
    "    return json_object\n",
    "\n",
    "\n",
    "\n",
    "output_json = get_relationship_json(\"周进\",0,20,8,df_total)\n",
    "\n",
    "# save the json object to a file\n",
    "with open('../processed/relationship.json', 'w') as outfile:\n",
    "    json.dump(output_json, outfile)\n"
   ]
  },
  {
   "cell_type": "code",
   "execution_count": 184,
   "metadata": {},
   "outputs": [
    {
     "data": {
      "text/plain": [
       "{'name': '周进',\n",
       " 'children': [{'name': '夏总甲'},\n",
       "  {'name': '梅玖', 'children': [{'name': '范进'}, {'name': '范进'}]},\n",
       "  {'name': '金有馀'},\n",
       "  {'name': '范进',\n",
       "   'children': [{'name': '严贡生', 'children': [{'name': '严监生'}]},\n",
       "    {'name': '汤奉'},\n",
       "    {'name': '荀玫'},\n",
       "    {'name': '蘧景玉',\n",
       "     'children': [{'name': '王惠'},\n",
       "      {'name': '蘧公孙',\n",
       "       'children': [{'name': '鲁编修',\n",
       "         'children': [{'name': '景兰江'}, {'name': '景兰江'}]},\n",
       "        {'name': '马纯上',\n",
       "         'children': [{'name': '洪憨仙'},\n",
       "          {'name': '匡超人',\n",
       "           'children': [{'name': '李本瑛'},\n",
       "            {'name': '景兰江'},\n",
       "            {'name': '潘三'},\n",
       "            {'name': '景兰江'}]}]}]}]},\n",
       "    {'name': '牛布衣'},\n",
       "    {'name': '荀玫'}]},\n",
       "  {'name': '荀玫'},\n",
       "  {'name': '荀玫'}]}"
      ]
     },
     "execution_count": 184,
     "metadata": {},
     "output_type": "execute_result"
    }
   ],
   "source": [
    "output_json"
   ]
  }
 ],
 "metadata": {
  "kernelspec": {
   "display_name": "base",
   "language": "python",
   "name": "python3"
  },
  "language_info": {
   "codemirror_mode": {
    "name": "ipython",
    "version": 3
   },
   "file_extension": ".py",
   "mimetype": "text/x-python",
   "name": "python",
   "nbconvert_exporter": "python",
   "pygments_lexer": "ipython3",
   "version": "3.8.5"
  },
  "orig_nbformat": 4
 },
 "nbformat": 4,
 "nbformat_minor": 2
}
